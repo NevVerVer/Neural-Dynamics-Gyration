{
 "cells": [
  {
   "cell_type": "code",
   "execution_count": 1,
   "metadata": {},
   "outputs": [],
   "source": [
    "import numpy as np\n",
    "import matplotlib.pyplot as plt\n",
    "from matplotlib.gridspec import GridSpec\n",
    "# from utils.vis import plot_dataset_gyration_plane, build_jPCA\n",
    "from utils.datasets import SyntheticTravelingWave\n",
    "\n",
    "from utils.utils import (\n",
    "    subtract_cc_mean,\n",
    "    soft_normalize,\n",
    "    compute_lambdas)\n",
    "\n",
    "from mpl_toolkits.axes_grid1 import make_axes_locatable\n",
    "from matplotlib import ticker\n",
    "from jPCA.util import plot_projections, preprocess\n",
    "import jPCA\n",
    "\n",
    "from utils.color_palettes import (\n",
    "    jpca_palette_journ1,\n",
    "    blue_yellow_cmap,\n",
    "    cmaps\n",
    "    )"
   ]
  },
  {
   "cell_type": "code",
   "execution_count": 2,
   "metadata": {},
   "outputs": [],
   "source": [
    "def peth_normalize(x):\n",
    "    mean = x.mean(axis=0)\n",
    "    x_ = x - mean\n",
    "    pmax = np.abs(x_).max(axis=0)\n",
    "    pmax = np.where(pmax==0, 1, pmax)\n",
    "    return x_ / (pmax)\n",
    "\n",
    "\n",
    "def plot_peth(datas_list, go_cue, ax, fs, sub_mean=False):\n",
    "    \"\"\"\n",
    "    Plot PETHs averaged across conditions for a given data\n",
    "    \"\"\"\n",
    "    datas = soft_normalize(datas_list)\n",
    "    if sub_mean:\n",
    "        datas = subtract_cc_mean(datas)\n",
    "\n",
    "    # sort by average wave maximum\n",
    "    cc_mean = np.mean(datas, axis=0)\n",
    "    idxs = np.argmax(cc_mean, axis=0)\n",
    "    cc_mean_sorted = cc_mean[:, np.argsort(idxs)]\n",
    "    divider = make_axes_locatable(ax)\n",
    "\n",
    "    # avg condition\n",
    "    mean_data_sort_norm = peth_normalize(cc_mean_sorted)\n",
    "    im1 = ax.imshow(mean_data_sort_norm.T, aspect='auto',\n",
    "                       cmap=blue_yellow_cmap(), interpolation='none')\n",
    "    ax.axvline(go_cue, c='black', ls='--', alpha=0.4)\n",
    "    cax1 = divider.append_axes('right', size='5%', pad=0.05)\n",
    "    cbar = plt.colorbar(im1, cax=cax1, orientation='vertical')\n",
    "    cbar.ax.tick_params(labelsize=8)\n",
    "\n",
    "    tick_locator = ticker.MaxNLocator(nbins=4)\n",
    "    cbar.locator = tick_locator\n",
    "    cbar.update_ticks()\n",
    "    ax.yaxis.set_major_locator(ticker.MultipleLocator(20))\n",
    "\n",
    "\n",
    "def build_jPCA(data, ax, ts, te, sub_mean=True,\n",
    "               c_siz=0.001, arr_siz=0.001, cmap=jpca_palette_journ1(),\n",
    "               fitting=False):\n",
    "    cond_num = data.shape[0]\n",
    "    datas_list = [data[i] for i in range(cond_num)]\n",
    "    times = list(np.arange(datas_list[0].shape[0]))\n",
    "\n",
    "    data_list = list(soft_normalize(datas_list))\n",
    "    jpca = jPCA.JPCA(num_jpcs=6)\n",
    "    (projected, _, _, _) = jpca.fit(data_list, times=times, \n",
    "                tstart=ts, tend=te, subtract_cc_mean=sub_mean,\n",
    "                num_pcs=6, pca=True, soft_normalize=0)\n",
    "    if fitting:\n",
    "        projected = [-1.*proj for proj in projected]\n",
    "    plot_projections(projected, axis=ax, x_idx=0, y_idx=1, circle_size=c_siz, arrow_size=arr_siz,\n",
    "                     colormap=cmap)"
   ]
  },
  {
   "cell_type": "code",
   "execution_count": 8,
   "metadata": {},
   "outputs": [
    {
     "name": "stderr",
     "output_type": "stream",
     "text": [
      "  0%|          | 0/117 [00:00<?, ?it/s]"
     ]
    },
    {
     "name": "stderr",
     "output_type": "stream",
     "text": [
      " 17%|█▋        | 20/117 [00:16<01:20,  1.20it/s]/home/kate/anaconda3/envs/CN/lib/python3.7/site-packages/ipykernel_launcher.py:69: RuntimeWarning: More than 20 figures have been opened. Figures created through the pyplot interface (`matplotlib.pyplot.figure`) are retained until explicitly closed and may consume too much memory. (To control this warning, see the rcParam `figure.max_open_warning`).\n",
      "100%|██████████| 117/117 [01:34<00:00,  1.24it/s]\n",
      "100%|██████████| 95/95 [01:12<00:00,  1.31it/s]\n"
     ]
    },
    {
     "data": {
      "text/plain": [
       "<Figure size 1080x432 with 0 Axes>"
      ]
     },
     "metadata": {},
     "output_type": "display_data"
    },
    {
     "data": {
      "text/plain": [
       "<Figure size 1080x432 with 0 Axes>"
      ]
     },
     "metadata": {},
     "output_type": "display_data"
    },
    {
     "data": {
      "text/plain": [
       "<Figure size 1080x432 with 0 Axes>"
      ]
     },
     "metadata": {},
     "output_type": "display_data"
    },
    {
     "data": {
      "text/plain": [
       "<Figure size 1080x432 with 0 Axes>"
      ]
     },
     "metadata": {},
     "output_type": "display_data"
    },
    {
     "data": {
      "text/plain": [
       "<Figure size 1080x432 with 0 Axes>"
      ]
     },
     "metadata": {},
     "output_type": "display_data"
    },
    {
     "data": {
      "text/plain": [
       "<Figure size 1080x432 with 0 Axes>"
      ]
     },
     "metadata": {},
     "output_type": "display_data"
    },
    {
     "data": {
      "text/plain": [
       "<Figure size 1080x432 with 0 Axes>"
      ]
     },
     "metadata": {},
     "output_type": "display_data"
    },
    {
     "data": {
      "text/plain": [
       "<Figure size 1080x432 with 0 Axes>"
      ]
     },
     "metadata": {},
     "output_type": "display_data"
    },
    {
     "data": {
      "text/plain": [
       "<Figure size 1080x432 with 0 Axes>"
      ]
     },
     "metadata": {},
     "output_type": "display_data"
    },
    {
     "data": {
      "text/plain": [
       "<Figure size 1080x432 with 0 Axes>"
      ]
     },
     "metadata": {},
     "output_type": "display_data"
    },
    {
     "data": {
      "text/plain": [
       "<Figure size 1080x432 with 0 Axes>"
      ]
     },
     "metadata": {},
     "output_type": "display_data"
    },
    {
     "data": {
      "text/plain": [
       "<Figure size 1080x432 with 0 Axes>"
      ]
     },
     "metadata": {},
     "output_type": "display_data"
    },
    {
     "data": {
      "text/plain": [
       "<Figure size 1080x432 with 0 Axes>"
      ]
     },
     "metadata": {},
     "output_type": "display_data"
    },
    {
     "data": {
      "text/plain": [
       "<Figure size 1080x432 with 0 Axes>"
      ]
     },
     "metadata": {},
     "output_type": "display_data"
    },
    {
     "data": {
      "text/plain": [
       "<Figure size 1080x432 with 0 Axes>"
      ]
     },
     "metadata": {},
     "output_type": "display_data"
    },
    {
     "data": {
      "text/plain": [
       "<Figure size 1080x432 with 0 Axes>"
      ]
     },
     "metadata": {},
     "output_type": "display_data"
    },
    {
     "data": {
      "text/plain": [
       "<Figure size 1080x432 with 0 Axes>"
      ]
     },
     "metadata": {},
     "output_type": "display_data"
    },
    {
     "data": {
      "text/plain": [
       "<Figure size 1080x432 with 0 Axes>"
      ]
     },
     "metadata": {},
     "output_type": "display_data"
    },
    {
     "data": {
      "text/plain": [
       "<Figure size 1080x432 with 0 Axes>"
      ]
     },
     "metadata": {},
     "output_type": "display_data"
    },
    {
     "data": {
      "text/plain": [
       "<Figure size 1080x432 with 0 Axes>"
      ]
     },
     "metadata": {},
     "output_type": "display_data"
    },
    {
     "data": {
      "text/plain": [
       "<Figure size 1080x432 with 0 Axes>"
      ]
     },
     "metadata": {},
     "output_type": "display_data"
    },
    {
     "data": {
      "text/plain": [
       "<Figure size 1080x432 with 0 Axes>"
      ]
     },
     "metadata": {},
     "output_type": "display_data"
    },
    {
     "data": {
      "text/plain": [
       "<Figure size 1080x432 with 0 Axes>"
      ]
     },
     "metadata": {},
     "output_type": "display_data"
    },
    {
     "data": {
      "text/plain": [
       "<Figure size 1080x432 with 0 Axes>"
      ]
     },
     "metadata": {},
     "output_type": "display_data"
    },
    {
     "data": {
      "text/plain": [
       "<Figure size 1080x432 with 0 Axes>"
      ]
     },
     "metadata": {},
     "output_type": "display_data"
    },
    {
     "data": {
      "text/plain": [
       "<Figure size 1080x432 with 0 Axes>"
      ]
     },
     "metadata": {},
     "output_type": "display_data"
    },
    {
     "data": {
      "text/plain": [
       "<Figure size 1080x432 with 0 Axes>"
      ]
     },
     "metadata": {},
     "output_type": "display_data"
    },
    {
     "data": {
      "text/plain": [
       "<Figure size 1080x432 with 0 Axes>"
      ]
     },
     "metadata": {},
     "output_type": "display_data"
    },
    {
     "data": {
      "text/plain": [
       "<Figure size 1080x432 with 0 Axes>"
      ]
     },
     "metadata": {},
     "output_type": "display_data"
    },
    {
     "data": {
      "text/plain": [
       "<Figure size 1080x432 with 0 Axes>"
      ]
     },
     "metadata": {},
     "output_type": "display_data"
    },
    {
     "data": {
      "text/plain": [
       "<Figure size 1080x432 with 0 Axes>"
      ]
     },
     "metadata": {},
     "output_type": "display_data"
    },
    {
     "data": {
      "text/plain": [
       "<Figure size 1080x432 with 0 Axes>"
      ]
     },
     "metadata": {},
     "output_type": "display_data"
    },
    {
     "data": {
      "text/plain": [
       "<Figure size 1080x432 with 0 Axes>"
      ]
     },
     "metadata": {},
     "output_type": "display_data"
    },
    {
     "data": {
      "text/plain": [
       "<Figure size 1080x432 with 0 Axes>"
      ]
     },
     "metadata": {},
     "output_type": "display_data"
    },
    {
     "data": {
      "text/plain": [
       "<Figure size 1080x432 with 0 Axes>"
      ]
     },
     "metadata": {},
     "output_type": "display_data"
    },
    {
     "data": {
      "text/plain": [
       "<Figure size 1080x432 with 0 Axes>"
      ]
     },
     "metadata": {},
     "output_type": "display_data"
    },
    {
     "data": {
      "text/plain": [
       "<Figure size 1080x432 with 0 Axes>"
      ]
     },
     "metadata": {},
     "output_type": "display_data"
    },
    {
     "data": {
      "text/plain": [
       "<Figure size 1080x432 with 0 Axes>"
      ]
     },
     "metadata": {},
     "output_type": "display_data"
    },
    {
     "data": {
      "text/plain": [
       "<Figure size 1080x432 with 0 Axes>"
      ]
     },
     "metadata": {},
     "output_type": "display_data"
    },
    {
     "data": {
      "text/plain": [
       "<Figure size 1080x432 with 0 Axes>"
      ]
     },
     "metadata": {},
     "output_type": "display_data"
    },
    {
     "data": {
      "text/plain": [
       "<Figure size 1080x432 with 0 Axes>"
      ]
     },
     "metadata": {},
     "output_type": "display_data"
    },
    {
     "data": {
      "text/plain": [
       "<Figure size 1080x432 with 0 Axes>"
      ]
     },
     "metadata": {},
     "output_type": "display_data"
    },
    {
     "data": {
      "text/plain": [
       "<Figure size 1080x432 with 0 Axes>"
      ]
     },
     "metadata": {},
     "output_type": "display_data"
    },
    {
     "data": {
      "text/plain": [
       "<Figure size 1080x432 with 0 Axes>"
      ]
     },
     "metadata": {},
     "output_type": "display_data"
    },
    {
     "data": {
      "text/plain": [
       "<Figure size 1080x432 with 0 Axes>"
      ]
     },
     "metadata": {},
     "output_type": "display_data"
    },
    {
     "data": {
      "text/plain": [
       "<Figure size 1080x432 with 0 Axes>"
      ]
     },
     "metadata": {},
     "output_type": "display_data"
    },
    {
     "data": {
      "text/plain": [
       "<Figure size 1080x432 with 0 Axes>"
      ]
     },
     "metadata": {},
     "output_type": "display_data"
    },
    {
     "data": {
      "text/plain": [
       "<Figure size 1080x432 with 0 Axes>"
      ]
     },
     "metadata": {},
     "output_type": "display_data"
    },
    {
     "data": {
      "text/plain": [
       "<Figure size 1080x432 with 0 Axes>"
      ]
     },
     "metadata": {},
     "output_type": "display_data"
    },
    {
     "data": {
      "text/plain": [
       "<Figure size 1080x432 with 0 Axes>"
      ]
     },
     "metadata": {},
     "output_type": "display_data"
    },
    {
     "data": {
      "text/plain": [
       "<Figure size 1080x432 with 0 Axes>"
      ]
     },
     "metadata": {},
     "output_type": "display_data"
    },
    {
     "data": {
      "text/plain": [
       "<Figure size 1080x432 with 0 Axes>"
      ]
     },
     "metadata": {},
     "output_type": "display_data"
    },
    {
     "data": {
      "text/plain": [
       "<Figure size 1080x432 with 0 Axes>"
      ]
     },
     "metadata": {},
     "output_type": "display_data"
    },
    {
     "data": {
      "text/plain": [
       "<Figure size 1080x432 with 0 Axes>"
      ]
     },
     "metadata": {},
     "output_type": "display_data"
    },
    {
     "data": {
      "text/plain": [
       "<Figure size 1080x432 with 0 Axes>"
      ]
     },
     "metadata": {},
     "output_type": "display_data"
    },
    {
     "data": {
      "text/plain": [
       "<Figure size 1080x432 with 0 Axes>"
      ]
     },
     "metadata": {},
     "output_type": "display_data"
    },
    {
     "data": {
      "text/plain": [
       "<Figure size 1080x432 with 0 Axes>"
      ]
     },
     "metadata": {},
     "output_type": "display_data"
    },
    {
     "data": {
      "text/plain": [
       "<Figure size 1080x432 with 0 Axes>"
      ]
     },
     "metadata": {},
     "output_type": "display_data"
    },
    {
     "data": {
      "text/plain": [
       "<Figure size 1080x432 with 0 Axes>"
      ]
     },
     "metadata": {},
     "output_type": "display_data"
    },
    {
     "data": {
      "text/plain": [
       "<Figure size 1080x432 with 0 Axes>"
      ]
     },
     "metadata": {},
     "output_type": "display_data"
    },
    {
     "data": {
      "text/plain": [
       "<Figure size 1080x432 with 0 Axes>"
      ]
     },
     "metadata": {},
     "output_type": "display_data"
    },
    {
     "data": {
      "text/plain": [
       "<Figure size 1080x432 with 0 Axes>"
      ]
     },
     "metadata": {},
     "output_type": "display_data"
    },
    {
     "data": {
      "text/plain": [
       "<Figure size 1080x432 with 0 Axes>"
      ]
     },
     "metadata": {},
     "output_type": "display_data"
    },
    {
     "data": {
      "text/plain": [
       "<Figure size 1080x432 with 0 Axes>"
      ]
     },
     "metadata": {},
     "output_type": "display_data"
    },
    {
     "data": {
      "text/plain": [
       "<Figure size 1080x432 with 0 Axes>"
      ]
     },
     "metadata": {},
     "output_type": "display_data"
    },
    {
     "data": {
      "text/plain": [
       "<Figure size 1080x432 with 0 Axes>"
      ]
     },
     "metadata": {},
     "output_type": "display_data"
    },
    {
     "data": {
      "text/plain": [
       "<Figure size 1080x432 with 0 Axes>"
      ]
     },
     "metadata": {},
     "output_type": "display_data"
    },
    {
     "data": {
      "text/plain": [
       "<Figure size 1080x432 with 0 Axes>"
      ]
     },
     "metadata": {},
     "output_type": "display_data"
    },
    {
     "data": {
      "text/plain": [
       "<Figure size 1080x432 with 0 Axes>"
      ]
     },
     "metadata": {},
     "output_type": "display_data"
    },
    {
     "data": {
      "text/plain": [
       "<Figure size 1080x432 with 0 Axes>"
      ]
     },
     "metadata": {},
     "output_type": "display_data"
    },
    {
     "data": {
      "text/plain": [
       "<Figure size 1080x432 with 0 Axes>"
      ]
     },
     "metadata": {},
     "output_type": "display_data"
    },
    {
     "data": {
      "text/plain": [
       "<Figure size 1080x432 with 0 Axes>"
      ]
     },
     "metadata": {},
     "output_type": "display_data"
    },
    {
     "data": {
      "text/plain": [
       "<Figure size 1080x432 with 0 Axes>"
      ]
     },
     "metadata": {},
     "output_type": "display_data"
    },
    {
     "data": {
      "text/plain": [
       "<Figure size 1080x432 with 0 Axes>"
      ]
     },
     "metadata": {},
     "output_type": "display_data"
    },
    {
     "data": {
      "text/plain": [
       "<Figure size 1080x432 with 0 Axes>"
      ]
     },
     "metadata": {},
     "output_type": "display_data"
    },
    {
     "data": {
      "text/plain": [
       "<Figure size 1080x432 with 0 Axes>"
      ]
     },
     "metadata": {},
     "output_type": "display_data"
    },
    {
     "data": {
      "text/plain": [
       "<Figure size 1080x432 with 0 Axes>"
      ]
     },
     "metadata": {},
     "output_type": "display_data"
    },
    {
     "data": {
      "text/plain": [
       "<Figure size 1080x432 with 0 Axes>"
      ]
     },
     "metadata": {},
     "output_type": "display_data"
    },
    {
     "data": {
      "text/plain": [
       "<Figure size 1080x432 with 0 Axes>"
      ]
     },
     "metadata": {},
     "output_type": "display_data"
    },
    {
     "data": {
      "text/plain": [
       "<Figure size 1080x432 with 0 Axes>"
      ]
     },
     "metadata": {},
     "output_type": "display_data"
    },
    {
     "data": {
      "text/plain": [
       "<Figure size 1080x432 with 0 Axes>"
      ]
     },
     "metadata": {},
     "output_type": "display_data"
    },
    {
     "data": {
      "text/plain": [
       "<Figure size 1080x432 with 0 Axes>"
      ]
     },
     "metadata": {},
     "output_type": "display_data"
    },
    {
     "data": {
      "text/plain": [
       "<Figure size 1080x432 with 0 Axes>"
      ]
     },
     "metadata": {},
     "output_type": "display_data"
    },
    {
     "data": {
      "text/plain": [
       "<Figure size 1080x432 with 0 Axes>"
      ]
     },
     "metadata": {},
     "output_type": "display_data"
    },
    {
     "data": {
      "text/plain": [
       "<Figure size 1080x432 with 0 Axes>"
      ]
     },
     "metadata": {},
     "output_type": "display_data"
    },
    {
     "data": {
      "text/plain": [
       "<Figure size 1080x432 with 0 Axes>"
      ]
     },
     "metadata": {},
     "output_type": "display_data"
    },
    {
     "data": {
      "text/plain": [
       "<Figure size 1080x432 with 0 Axes>"
      ]
     },
     "metadata": {},
     "output_type": "display_data"
    },
    {
     "data": {
      "text/plain": [
       "<Figure size 1080x432 with 0 Axes>"
      ]
     },
     "metadata": {},
     "output_type": "display_data"
    },
    {
     "data": {
      "text/plain": [
       "<Figure size 1080x432 with 0 Axes>"
      ]
     },
     "metadata": {},
     "output_type": "display_data"
    },
    {
     "data": {
      "text/plain": [
       "<Figure size 1080x432 with 0 Axes>"
      ]
     },
     "metadata": {},
     "output_type": "display_data"
    },
    {
     "data": {
      "text/plain": [
       "<Figure size 1080x432 with 0 Axes>"
      ]
     },
     "metadata": {},
     "output_type": "display_data"
    },
    {
     "data": {
      "text/plain": [
       "<Figure size 1080x432 with 0 Axes>"
      ]
     },
     "metadata": {},
     "output_type": "display_data"
    },
    {
     "data": {
      "text/plain": [
       "<Figure size 1080x432 with 0 Axes>"
      ]
     },
     "metadata": {},
     "output_type": "display_data"
    },
    {
     "data": {
      "text/plain": [
       "<Figure size 1080x432 with 0 Axes>"
      ]
     },
     "metadata": {},
     "output_type": "display_data"
    },
    {
     "data": {
      "text/plain": [
       "<Figure size 1080x432 with 0 Axes>"
      ]
     },
     "metadata": {},
     "output_type": "display_data"
    },
    {
     "data": {
      "text/plain": [
       "<Figure size 1080x432 with 0 Axes>"
      ]
     },
     "metadata": {},
     "output_type": "display_data"
    },
    {
     "data": {
      "text/plain": [
       "<Figure size 1080x432 with 0 Axes>"
      ]
     },
     "metadata": {},
     "output_type": "display_data"
    },
    {
     "data": {
      "text/plain": [
       "<Figure size 1080x432 with 0 Axes>"
      ]
     },
     "metadata": {},
     "output_type": "display_data"
    },
    {
     "data": {
      "text/plain": [
       "<Figure size 1080x432 with 0 Axes>"
      ]
     },
     "metadata": {},
     "output_type": "display_data"
    },
    {
     "data": {
      "text/plain": [
       "<Figure size 1080x432 with 0 Axes>"
      ]
     },
     "metadata": {},
     "output_type": "display_data"
    },
    {
     "data": {
      "text/plain": [
       "<Figure size 1080x432 with 0 Axes>"
      ]
     },
     "metadata": {},
     "output_type": "display_data"
    },
    {
     "data": {
      "text/plain": [
       "<Figure size 1080x432 with 0 Axes>"
      ]
     },
     "metadata": {},
     "output_type": "display_data"
    },
    {
     "data": {
      "text/plain": [
       "<Figure size 1080x432 with 0 Axes>"
      ]
     },
     "metadata": {},
     "output_type": "display_data"
    },
    {
     "data": {
      "text/plain": [
       "<Figure size 1080x432 with 0 Axes>"
      ]
     },
     "metadata": {},
     "output_type": "display_data"
    },
    {
     "data": {
      "text/plain": [
       "<Figure size 1080x432 with 0 Axes>"
      ]
     },
     "metadata": {},
     "output_type": "display_data"
    },
    {
     "data": {
      "text/plain": [
       "<Figure size 1080x432 with 0 Axes>"
      ]
     },
     "metadata": {},
     "output_type": "display_data"
    },
    {
     "data": {
      "text/plain": [
       "<Figure size 1080x432 with 0 Axes>"
      ]
     },
     "metadata": {},
     "output_type": "display_data"
    },
    {
     "data": {
      "text/plain": [
       "<Figure size 1080x432 with 0 Axes>"
      ]
     },
     "metadata": {},
     "output_type": "display_data"
    },
    {
     "data": {
      "text/plain": [
       "<Figure size 1080x432 with 0 Axes>"
      ]
     },
     "metadata": {},
     "output_type": "display_data"
    },
    {
     "data": {
      "text/plain": [
       "<Figure size 1080x432 with 0 Axes>"
      ]
     },
     "metadata": {},
     "output_type": "display_data"
    },
    {
     "data": {
      "text/plain": [
       "<Figure size 1080x432 with 0 Axes>"
      ]
     },
     "metadata": {},
     "output_type": "display_data"
    },
    {
     "data": {
      "text/plain": [
       "<Figure size 1080x432 with 0 Axes>"
      ]
     },
     "metadata": {},
     "output_type": "display_data"
    },
    {
     "data": {
      "text/plain": [
       "<Figure size 1080x432 with 0 Axes>"
      ]
     },
     "metadata": {},
     "output_type": "display_data"
    },
    {
     "data": {
      "text/plain": [
       "<Figure size 1080x432 with 0 Axes>"
      ]
     },
     "metadata": {},
     "output_type": "display_data"
    },
    {
     "data": {
      "text/plain": [
       "<Figure size 1080x432 with 0 Axes>"
      ]
     },
     "metadata": {},
     "output_type": "display_data"
    },
    {
     "data": {
      "text/plain": [
       "<Figure size 1080x432 with 0 Axes>"
      ]
     },
     "metadata": {},
     "output_type": "display_data"
    },
    {
     "data": {
      "text/plain": [
       "<Figure size 1080x432 with 0 Axes>"
      ]
     },
     "metadata": {},
     "output_type": "display_data"
    },
    {
     "data": {
      "text/plain": [
       "<Figure size 1080x432 with 0 Axes>"
      ]
     },
     "metadata": {},
     "output_type": "display_data"
    },
    {
     "data": {
      "text/plain": [
       "<Figure size 1080x432 with 0 Axes>"
      ]
     },
     "metadata": {},
     "output_type": "display_data"
    },
    {
     "data": {
      "text/plain": [
       "<Figure size 1080x432 with 0 Axes>"
      ]
     },
     "metadata": {},
     "output_type": "display_data"
    },
    {
     "data": {
      "text/plain": [
       "<Figure size 1080x432 with 0 Axes>"
      ]
     },
     "metadata": {},
     "output_type": "display_data"
    },
    {
     "data": {
      "text/plain": [
       "<Figure size 1080x432 with 0 Axes>"
      ]
     },
     "metadata": {},
     "output_type": "display_data"
    },
    {
     "data": {
      "text/plain": [
       "<Figure size 1080x432 with 0 Axes>"
      ]
     },
     "metadata": {},
     "output_type": "display_data"
    },
    {
     "data": {
      "text/plain": [
       "<Figure size 1080x432 with 0 Axes>"
      ]
     },
     "metadata": {},
     "output_type": "display_data"
    },
    {
     "data": {
      "text/plain": [
       "<Figure size 1080x432 with 0 Axes>"
      ]
     },
     "metadata": {},
     "output_type": "display_data"
    },
    {
     "data": {
      "text/plain": [
       "<Figure size 1080x432 with 0 Axes>"
      ]
     },
     "metadata": {},
     "output_type": "display_data"
    },
    {
     "data": {
      "text/plain": [
       "<Figure size 1080x432 with 0 Axes>"
      ]
     },
     "metadata": {},
     "output_type": "display_data"
    },
    {
     "data": {
      "text/plain": [
       "<Figure size 1080x432 with 0 Axes>"
      ]
     },
     "metadata": {},
     "output_type": "display_data"
    },
    {
     "data": {
      "text/plain": [
       "<Figure size 1080x432 with 0 Axes>"
      ]
     },
     "metadata": {},
     "output_type": "display_data"
    },
    {
     "data": {
      "text/plain": [
       "<Figure size 1080x432 with 0 Axes>"
      ]
     },
     "metadata": {},
     "output_type": "display_data"
    },
    {
     "data": {
      "text/plain": [
       "<Figure size 1080x432 with 0 Axes>"
      ]
     },
     "metadata": {},
     "output_type": "display_data"
    },
    {
     "data": {
      "text/plain": [
       "<Figure size 1080x432 with 0 Axes>"
      ]
     },
     "metadata": {},
     "output_type": "display_data"
    },
    {
     "data": {
      "text/plain": [
       "<Figure size 1080x432 with 0 Axes>"
      ]
     },
     "metadata": {},
     "output_type": "display_data"
    },
    {
     "data": {
      "text/plain": [
       "<Figure size 1080x432 with 0 Axes>"
      ]
     },
     "metadata": {},
     "output_type": "display_data"
    },
    {
     "data": {
      "text/plain": [
       "<Figure size 1080x432 with 0 Axes>"
      ]
     },
     "metadata": {},
     "output_type": "display_data"
    },
    {
     "data": {
      "text/plain": [
       "<Figure size 1080x432 with 0 Axes>"
      ]
     },
     "metadata": {},
     "output_type": "display_data"
    },
    {
     "data": {
      "text/plain": [
       "<Figure size 1080x432 with 0 Axes>"
      ]
     },
     "metadata": {},
     "output_type": "display_data"
    },
    {
     "data": {
      "text/plain": [
       "<Figure size 1080x432 with 0 Axes>"
      ]
     },
     "metadata": {},
     "output_type": "display_data"
    },
    {
     "data": {
      "text/plain": [
       "<Figure size 1080x432 with 0 Axes>"
      ]
     },
     "metadata": {},
     "output_type": "display_data"
    },
    {
     "data": {
      "text/plain": [
       "<Figure size 1080x432 with 0 Axes>"
      ]
     },
     "metadata": {},
     "output_type": "display_data"
    },
    {
     "data": {
      "text/plain": [
       "<Figure size 1080x432 with 0 Axes>"
      ]
     },
     "metadata": {},
     "output_type": "display_data"
    },
    {
     "data": {
      "text/plain": [
       "<Figure size 1080x432 with 0 Axes>"
      ]
     },
     "metadata": {},
     "output_type": "display_data"
    },
    {
     "data": {
      "text/plain": [
       "<Figure size 1080x432 with 0 Axes>"
      ]
     },
     "metadata": {},
     "output_type": "display_data"
    },
    {
     "data": {
      "text/plain": [
       "<Figure size 1080x432 with 0 Axes>"
      ]
     },
     "metadata": {},
     "output_type": "display_data"
    },
    {
     "data": {
      "text/plain": [
       "<Figure size 1080x432 with 0 Axes>"
      ]
     },
     "metadata": {},
     "output_type": "display_data"
    },
    {
     "data": {
      "text/plain": [
       "<Figure size 1080x432 with 0 Axes>"
      ]
     },
     "metadata": {},
     "output_type": "display_data"
    },
    {
     "data": {
      "text/plain": [
       "<Figure size 1080x432 with 0 Axes>"
      ]
     },
     "metadata": {},
     "output_type": "display_data"
    },
    {
     "data": {
      "text/plain": [
       "<Figure size 1080x432 with 0 Axes>"
      ]
     },
     "metadata": {},
     "output_type": "display_data"
    },
    {
     "data": {
      "text/plain": [
       "<Figure size 1080x432 with 0 Axes>"
      ]
     },
     "metadata": {},
     "output_type": "display_data"
    },
    {
     "data": {
      "text/plain": [
       "<Figure size 1080x432 with 0 Axes>"
      ]
     },
     "metadata": {},
     "output_type": "display_data"
    },
    {
     "data": {
      "text/plain": [
       "<Figure size 1080x432 with 0 Axes>"
      ]
     },
     "metadata": {},
     "output_type": "display_data"
    },
    {
     "data": {
      "text/plain": [
       "<Figure size 1080x432 with 0 Axes>"
      ]
     },
     "metadata": {},
     "output_type": "display_data"
    },
    {
     "data": {
      "text/plain": [
       "<Figure size 1080x432 with 0 Axes>"
      ]
     },
     "metadata": {},
     "output_type": "display_data"
    },
    {
     "data": {
      "text/plain": [
       "<Figure size 1080x432 with 0 Axes>"
      ]
     },
     "metadata": {},
     "output_type": "display_data"
    },
    {
     "data": {
      "text/plain": [
       "<Figure size 1080x432 with 0 Axes>"
      ]
     },
     "metadata": {},
     "output_type": "display_data"
    },
    {
     "data": {
      "text/plain": [
       "<Figure size 1080x432 with 0 Axes>"
      ]
     },
     "metadata": {},
     "output_type": "display_data"
    },
    {
     "data": {
      "text/plain": [
       "<Figure size 1080x432 with 0 Axes>"
      ]
     },
     "metadata": {},
     "output_type": "display_data"
    },
    {
     "data": {
      "text/plain": [
       "<Figure size 1080x432 with 0 Axes>"
      ]
     },
     "metadata": {},
     "output_type": "display_data"
    },
    {
     "data": {
      "text/plain": [
       "<Figure size 1080x432 with 0 Axes>"
      ]
     },
     "metadata": {},
     "output_type": "display_data"
    },
    {
     "data": {
      "text/plain": [
       "<Figure size 1080x432 with 0 Axes>"
      ]
     },
     "metadata": {},
     "output_type": "display_data"
    },
    {
     "data": {
      "text/plain": [
       "<Figure size 1080x432 with 0 Axes>"
      ]
     },
     "metadata": {},
     "output_type": "display_data"
    },
    {
     "data": {
      "text/plain": [
       "<Figure size 1080x432 with 0 Axes>"
      ]
     },
     "metadata": {},
     "output_type": "display_data"
    },
    {
     "data": {
      "text/plain": [
       "<Figure size 1080x432 with 0 Axes>"
      ]
     },
     "metadata": {},
     "output_type": "display_data"
    },
    {
     "data": {
      "text/plain": [
       "<Figure size 1080x432 with 0 Axes>"
      ]
     },
     "metadata": {},
     "output_type": "display_data"
    },
    {
     "data": {
      "text/plain": [
       "<Figure size 1080x432 with 0 Axes>"
      ]
     },
     "metadata": {},
     "output_type": "display_data"
    },
    {
     "data": {
      "text/plain": [
       "<Figure size 1080x432 with 0 Axes>"
      ]
     },
     "metadata": {},
     "output_type": "display_data"
    },
    {
     "data": {
      "text/plain": [
       "<Figure size 1080x432 with 0 Axes>"
      ]
     },
     "metadata": {},
     "output_type": "display_data"
    },
    {
     "data": {
      "text/plain": [
       "<Figure size 1080x432 with 0 Axes>"
      ]
     },
     "metadata": {},
     "output_type": "display_data"
    },
    {
     "data": {
      "text/plain": [
       "<Figure size 1080x432 with 0 Axes>"
      ]
     },
     "metadata": {},
     "output_type": "display_data"
    },
    {
     "data": {
      "text/plain": [
       "<Figure size 1080x432 with 0 Axes>"
      ]
     },
     "metadata": {},
     "output_type": "display_data"
    },
    {
     "data": {
      "text/plain": [
       "<Figure size 1080x432 with 0 Axes>"
      ]
     },
     "metadata": {},
     "output_type": "display_data"
    },
    {
     "data": {
      "text/plain": [
       "<Figure size 1080x432 with 0 Axes>"
      ]
     },
     "metadata": {},
     "output_type": "display_data"
    },
    {
     "data": {
      "text/plain": [
       "<Figure size 1080x432 with 0 Axes>"
      ]
     },
     "metadata": {},
     "output_type": "display_data"
    },
    {
     "data": {
      "text/plain": [
       "<Figure size 1080x432 with 0 Axes>"
      ]
     },
     "metadata": {},
     "output_type": "display_data"
    },
    {
     "data": {
      "text/plain": [
       "<Figure size 1080x432 with 0 Axes>"
      ]
     },
     "metadata": {},
     "output_type": "display_data"
    },
    {
     "data": {
      "text/plain": [
       "<Figure size 1080x432 with 0 Axes>"
      ]
     },
     "metadata": {},
     "output_type": "display_data"
    },
    {
     "data": {
      "text/plain": [
       "<Figure size 1080x432 with 0 Axes>"
      ]
     },
     "metadata": {},
     "output_type": "display_data"
    },
    {
     "data": {
      "text/plain": [
       "<Figure size 1080x432 with 0 Axes>"
      ]
     },
     "metadata": {},
     "output_type": "display_data"
    },
    {
     "data": {
      "text/plain": [
       "<Figure size 1080x432 with 0 Axes>"
      ]
     },
     "metadata": {},
     "output_type": "display_data"
    },
    {
     "data": {
      "text/plain": [
       "<Figure size 1080x432 with 0 Axes>"
      ]
     },
     "metadata": {},
     "output_type": "display_data"
    },
    {
     "data": {
      "text/plain": [
       "<Figure size 1080x432 with 0 Axes>"
      ]
     },
     "metadata": {},
     "output_type": "display_data"
    },
    {
     "data": {
      "text/plain": [
       "<Figure size 1080x432 with 0 Axes>"
      ]
     },
     "metadata": {},
     "output_type": "display_data"
    },
    {
     "data": {
      "text/plain": [
       "<Figure size 1080x432 with 0 Axes>"
      ]
     },
     "metadata": {},
     "output_type": "display_data"
    },
    {
     "data": {
      "text/plain": [
       "<Figure size 1080x432 with 0 Axes>"
      ]
     },
     "metadata": {},
     "output_type": "display_data"
    },
    {
     "data": {
      "text/plain": [
       "<Figure size 1080x432 with 0 Axes>"
      ]
     },
     "metadata": {},
     "output_type": "display_data"
    },
    {
     "data": {
      "text/plain": [
       "<Figure size 1080x432 with 0 Axes>"
      ]
     },
     "metadata": {},
     "output_type": "display_data"
    },
    {
     "data": {
      "text/plain": [
       "<Figure size 1080x432 with 0 Axes>"
      ]
     },
     "metadata": {},
     "output_type": "display_data"
    },
    {
     "data": {
      "text/plain": [
       "<Figure size 1080x432 with 0 Axes>"
      ]
     },
     "metadata": {},
     "output_type": "display_data"
    },
    {
     "data": {
      "text/plain": [
       "<Figure size 1080x432 with 0 Axes>"
      ]
     },
     "metadata": {},
     "output_type": "display_data"
    },
    {
     "data": {
      "text/plain": [
       "<Figure size 1080x432 with 0 Axes>"
      ]
     },
     "metadata": {},
     "output_type": "display_data"
    },
    {
     "data": {
      "text/plain": [
       "<Figure size 1080x432 with 0 Axes>"
      ]
     },
     "metadata": {},
     "output_type": "display_data"
    },
    {
     "data": {
      "text/plain": [
       "<Figure size 1080x432 with 0 Axes>"
      ]
     },
     "metadata": {},
     "output_type": "display_data"
    },
    {
     "data": {
      "text/plain": [
       "<Figure size 1080x432 with 0 Axes>"
      ]
     },
     "metadata": {},
     "output_type": "display_data"
    },
    {
     "data": {
      "text/plain": [
       "<Figure size 1080x432 with 0 Axes>"
      ]
     },
     "metadata": {},
     "output_type": "display_data"
    },
    {
     "data": {
      "text/plain": [
       "<Figure size 1080x432 with 0 Axes>"
      ]
     },
     "metadata": {},
     "output_type": "display_data"
    },
    {
     "data": {
      "text/plain": [
       "<Figure size 1080x432 with 0 Axes>"
      ]
     },
     "metadata": {},
     "output_type": "display_data"
    },
    {
     "data": {
      "text/plain": [
       "<Figure size 1080x432 with 0 Axes>"
      ]
     },
     "metadata": {},
     "output_type": "display_data"
    },
    {
     "data": {
      "text/plain": [
       "<Figure size 1080x432 with 0 Axes>"
      ]
     },
     "metadata": {},
     "output_type": "display_data"
    },
    {
     "data": {
      "text/plain": [
       "<Figure size 1080x432 with 0 Axes>"
      ]
     },
     "metadata": {},
     "output_type": "display_data"
    },
    {
     "data": {
      "text/plain": [
       "<Figure size 1080x432 with 0 Axes>"
      ]
     },
     "metadata": {},
     "output_type": "display_data"
    },
    {
     "data": {
      "text/plain": [
       "<Figure size 1080x432 with 0 Axes>"
      ]
     },
     "metadata": {},
     "output_type": "display_data"
    },
    {
     "data": {
      "text/plain": [
       "<Figure size 1080x432 with 0 Axes>"
      ]
     },
     "metadata": {},
     "output_type": "display_data"
    },
    {
     "data": {
      "text/plain": [
       "<Figure size 1080x432 with 0 Axes>"
      ]
     },
     "metadata": {},
     "output_type": "display_data"
    },
    {
     "data": {
      "text/plain": [
       "<Figure size 1080x432 with 0 Axes>"
      ]
     },
     "metadata": {},
     "output_type": "display_data"
    },
    {
     "data": {
      "text/plain": [
       "<Figure size 1080x432 with 0 Axes>"
      ]
     },
     "metadata": {},
     "output_type": "display_data"
    },
    {
     "data": {
      "text/plain": [
       "<Figure size 1080x432 with 0 Axes>"
      ]
     },
     "metadata": {},
     "output_type": "display_data"
    },
    {
     "data": {
      "text/plain": [
       "<Figure size 1080x432 with 0 Axes>"
      ]
     },
     "metadata": {},
     "output_type": "display_data"
    },
    {
     "data": {
      "text/plain": [
       "<Figure size 1080x432 with 0 Axes>"
      ]
     },
     "metadata": {},
     "output_type": "display_data"
    },
    {
     "data": {
      "text/plain": [
       "<Figure size 1080x432 with 0 Axes>"
      ]
     },
     "metadata": {},
     "output_type": "display_data"
    },
    {
     "data": {
      "text/plain": [
       "<Figure size 1080x432 with 0 Axes>"
      ]
     },
     "metadata": {},
     "output_type": "display_data"
    },
    {
     "data": {
      "text/plain": [
       "<Figure size 1080x432 with 0 Axes>"
      ]
     },
     "metadata": {},
     "output_type": "display_data"
    },
    {
     "data": {
      "text/plain": [
       "<Figure size 1080x432 with 0 Axes>"
      ]
     },
     "metadata": {},
     "output_type": "display_data"
    }
   ],
   "source": [
    "from utils.color_palettes import journ_color_dict, RB1\n",
    "from utils.utils import generate_response\n",
    "import cv2\n",
    "import os\n",
    "import shutil                                       \n",
    "import imageio\n",
    "from tqdm import tqdm\n",
    "\n",
    "def generate_image_name(idx, gif_dir):\n",
    "    l = len(str(idx))\n",
    "    if l == 1:\n",
    "        n = '00' + str(idx)\n",
    "    elif l == 2:\n",
    "        n = '0' + str(idx)\n",
    "    elif l == 3:\n",
    "        n = str(idx)\n",
    "    return gif_dir + n + '.png'\n",
    "\n",
    "\n",
    "def render_gif(image_folder, video_name):\n",
    "    # image_folder = '/home/kate/Documents/brainlearning/imgs/tt/'\n",
    "    # video_name = '/home/kate/Documents/brainlearning/imgs/' + 'wavelet400.gif'\n",
    "\n",
    "    images = [img for img in os.listdir(image_folder) if img.endswith(\".png\")]\n",
    "    keys = [int(image[:-4]) for image in images]\n",
    "    xx = np.argsort(keys)\n",
    "    images = np.array(images)[xx]\n",
    "\n",
    "    with imageio.get_writer(video_name, mode='I') as writer:\n",
    "        for filename in images:\n",
    "            image = imageio.imread(image_folder + \"/\" + filename)\n",
    "            writer.append_data(image)\n",
    "\n",
    "\n",
    "params = [\n",
    "        #noise free\n",
    "        {'amp_noise':0, 'phase_noise':0, 'sigma_noise':0, 'sigma':100, 'ncond':8, 'wave_speed':5.1, 'color':journ_color_dict['green']},\n",
    "        {'amp_noise':0, 'phase_noise':0, 'sigma_noise':0, 'sigma':180, 'ncond':8, 'wave_speed':8.1, 'color':journ_color_dict['green']},\n",
    "        {'amp_noise':0, 'phase_noise':0, 'sigma_noise':0, 'sigma':200, 'ncond':8, 'wave_speed':2.0, 'color':journ_color_dict['green']},\n",
    "        {'amp_noise':0, 'phase_noise':0, 'sigma_noise':0, 'sigma':200, 'ncond':8, 'wave_speed':1.1, 'color':journ_color_dict['green']},\n",
    "        {'amp_noise':0, 'phase_noise':0, 'sigma_noise':0, 'sigma':200, 'ncond':8, 'wave_speed':0.9, 'color':journ_color_dict['green']},\n",
    "        {'amp_noise':0, 'phase_noise':0, 'sigma_noise':0, 'sigma':200, 'ncond':8, 'wave_speed':0.8, 'color':journ_color_dict['green']},\n",
    "        {'amp_noise':0, 'phase_noise':0, 'sigma_noise':0, 'sigma':200, 'ncond':8, 'wave_speed':0.3, 'color':journ_color_dict['green']},\n",
    "        #noised\n",
    "        {'amp_noise':0.12, 'phase_noise':0, 'sigma_noise':0, 'sigma':200, 'ncond':8, 'wave_speed':2.1, 'color':journ_color_dict['blue']},\n",
    "        {'amp_noise':0., 'phase_noise':0, 'sigma_noise':400, 'sigma':200, 'ncond':8, 'wave_speed':2.1, 'color':journ_color_dict['blue']},  \n",
    "        {'amp_noise':0.3, 'phase_noise':0, 'sigma_noise':0, 'sigma':200, 'ncond':8, 'wave_speed':2.1, 'color':journ_color_dict['blue']},\n",
    "        {'amp_noise':0., 'phase_noise':60, 'sigma_noise':0, 'sigma':200, 'ncond':8, 'wave_speed':2.1, 'color':journ_color_dict['blue']},\n",
    "        {'amp_noise':0.3, 'phase_noise':60, 'sigma_noise':400, 'sigma':200, 'ncond':8, 'wave_speed':2.1, 'color':journ_color_dict['blue']},\n",
    "        {'amp_noise':0.3, 'phase_noise':60, 'sigma_noise':400, 'sigma':200, 'ncond':8, 'wave_speed':0.6, 'color':journ_color_dict['blue']},\n",
    "        {'amp_noise':0.05, 'phase_noise':10, 'sigma_noise':1, 'sigma':200, 'ncond':8, 'wave_speed':1.1, 'color':journ_color_dict['blue']},\n",
    "        {'amp_noise':0.05, 'phase_noise':10, 'sigma_noise':1, 'sigma':200, 'ncond':8, 'wave_speed':0.8, 'color':journ_color_dict['blue']},\n",
    "        {'amp_noise':0.1, 'phase_noise':20, 'sigma_noise':10, 'sigma':200, 'ncond':8, 'wave_speed':0.8, 'color':journ_color_dict['blue']},\n",
    "        {'amp_noise':0.1, 'phase_noise':20, 'sigma_noise':10, 'sigma':200, 'ncond':8, 'wave_speed':0.7, 'color':journ_color_dict['blue']},\n",
    "        {'amp_noise':0.1, 'phase_noise':20, 'sigma_noise':10, 'sigma':200, 'ncond':8, 'wave_speed':0.3, 'color':journ_color_dict['blue']},\n",
    "          ]\n",
    "fsize = 15\n",
    "\n",
    "b_i = 3.2\n",
    "eps_amp = 0\n",
    "eps_sigma = 0\n",
    "eps_phase = 0\n",
    "sig = 200\n",
    "\n",
    "# for sig in np.arange(200, 10, -10):\n",
    "ii = 0\n",
    "for b_i in tqdm(np.arange(0.3, 3.2, 0.025)):\n",
    "        p = params[0]\n",
    "        fig = plt.figure(figsize=(15, 6), constrained_layout=True)\n",
    "        gs = GridSpec(1, 10, figure=fig) \n",
    "        ax0 = fig.add_subplot(gs[:, :4])\n",
    "        ax1 = fig.add_subplot(gs[:, 4:8])\n",
    "        ax2 = fig.add_subplot(gs[:, 8:])\n",
    "\n",
    "        datas_list = [generate_response(t_max=600,\n",
    "                                        N=200, \n",
    "                                        sigma=sig, #p['sigma'], \n",
    "                                        a=0,\n",
    "                                        b=b_i, #p['wave_speed'],\n",
    "                                        steps=200, \n",
    "                                        amp_mean=ampi,\n",
    "                                        sigma_noise=eps_sigma, #p['sigma_noise'],\n",
    "                                        phase_noise=eps_phase, #p['phase_noise'],\n",
    "                                        amp_noise=eps_amp,\n",
    "                                        )[0].T \n",
    "                                for ampi in np.linspace(0.3, 1.2, p['ncond'])] \n",
    "        \n",
    "        times = np.arange(datas_list[0].shape[0]).tolist()\n",
    "        start, end = times[0], times[-1]\n",
    "        datas, data_list, full_data_var, pca_variance_captured, pca = preprocess(\n",
    "                                                                datas_list, \n",
    "                                                                times=times, \n",
    "                                                                tstart=start,\n",
    "                                                                tend=end,\n",
    "                                                                soft_normalize=5, \n",
    "                                                                subtract_cc_mean=True, \n",
    "                                                                pca=False,\n",
    "                                                                extra=True)\n",
    "        jpca = jPCA.JPCA(num_jpcs=6)\n",
    "        (projected, _, _, _) = jpca.fit(datas_list, times=times, \n",
    "                tstart=start, tend=end, subtract_cc_mean=True, num_pcs=6, pca=True)\n",
    "        \n",
    "        plot_projections(projected, axis=ax1, x_idx=0, y_idx=1,\n",
    "                         circle_size=0.000, arrow_size=0.000,\n",
    "                         colormap=RB1()) \n",
    "        ax1.set_xticks([])\n",
    "        ax1.set_yticks([])\n",
    "        #==========================================\n",
    "        plot_peth(datas_list, go_cue=0, ax=ax2, fs=0.001, sub_mean=False)\n",
    "        ax2.set_title('PETH', fontsize=fsize)\n",
    "        ax0.set_title('Gyration Plane', fontsize=fsize)\n",
    "        ax1.set_title('jPCA Plane', fontsize=fsize)\n",
    "        #==========================================\n",
    "\n",
    "        Xeig = compute_lambdas(datas)\n",
    "        xnom = np.abs(np.real(Xeig[0])) + np.abs(np.real(Xeig[1]))\n",
    "        ynom = np.abs(np.imag(Xeig[0])) + np.abs(np.imag(Xeig[1]))\n",
    "        x = xnom / (np.abs(Xeig).sum())\n",
    "        y = ynom / (np.abs(Xeig).sum())\n",
    "        \n",
    "        # Params of Gyration Plane\n",
    "        ins_size = 0.21\n",
    "        ax=ax0\n",
    "        ax.set_xlim([-0.05, 1.05])\n",
    "        ax.set_ylim([-0.05, 1.05])\n",
    "        ax.plot([0,0], [0,1], lw=1, ls='--', color='grey')\n",
    "        ax.plot([0,1], [0,0], lw=1, ls='--', color='grey')\n",
    "        ax.plot([0,1], [1,1], lw=1, ls='--', color='grey')\n",
    "        ax.plot([1,1], [0,1], lw=1, ls='--', color='grey')\n",
    "\n",
    "        ax.plot([0,1], [0,1], lw=1, ls='--', color='grey', alpha=0.4)\n",
    "        circle2 = plt.Circle((0, 0), 1, color='grey',lw=1,\n",
    "                             ls='--', fill=False, alpha=0.4)\n",
    "        ax.add_patch(circle2)\n",
    "\n",
    "        ax.grid(alpha=0.3)\n",
    "        ax.set_ylabel('Rotation axis', fontsize=12)\n",
    "        ax.set_xlabel('Decay axis', fontsize=12)\n",
    "        ax.set_facecolor('#fafafa')\n",
    "        ax.tick_params(axis='both', which='major', labelsize=9, direction=\"in\")\n",
    "\n",
    "        ins = ax.inset_axes([x - ins_size/2, y - ins_size/2,\n",
    "                             ins_size, ins_size], transform=ax.transData)\n",
    "        ins.set_aspect('equal', adjustable='datalim')\n",
    "        plot_projections(projected, axis=ins, x_idx=0, y_idx=1,\n",
    "                         circle_size=0.000, arrow_size=0.000,\n",
    "                         colormap=RB1()) \n",
    "        if x > 0.7:\n",
    "                hha = 'right'\n",
    "                title_x = -0.05\n",
    "                title_y = 0.0\n",
    "        else:\n",
    "                hha = 'left'\n",
    "                title_x = 1.05\n",
    "                title_y = 0.0\n",
    "        ins.set_title(  r'$\\epsilon_{A}$='+f'{p[\"amp_noise\"]} \\n' + \n",
    "                        r'$\\epsilon_{\\sigma}$='+f'{p[\"sigma_noise\"]} \\n' + \n",
    "                        r'$\\epsilon_{k}$='+f'{p[\"phase_noise\"]} \\n' + \n",
    "                        r'$b$='+f'{round(b_i, 2)} \\n' + \n",
    "                        r'$\\sigma$='+f'{round(sig, 2)}', \n",
    "                        fontsize=8, x=title_x, y=title_y, ha=hha)\n",
    "        ins.set_xticks([])\n",
    "        ins.set_yticks([])\n",
    "        for spine in ins.spines.values():\n",
    "                spine.set_linewidth(2.1)\n",
    "\n",
    "        nam = generate_image_name(ii, 'image/gif_for_readme/')\n",
    "        plt.savefig(nam, dpi=90, format='png', bbox_inches='tight', pad_inches=0.0)\n",
    "        # plt.tight_layout()\n",
    "        # plt.show()\n",
    "        plt.clf() \n",
    "        ii += 1\n",
    "#=======================================================================\n",
    "#=======================================================================\n",
    "#=======================================================================\n",
    "#=======================================================================\n",
    "ii = 117\n",
    "b_i = 3.2\n",
    "eps_amp = 0\n",
    "eps_sigma = 0\n",
    "eps_phase = 0\n",
    "sig = 200\n",
    "for sig in tqdm(np.arange(200, 10, -2)):\n",
    "        p = params[0]\n",
    "        fig = plt.figure(figsize=(15, 6), constrained_layout=True)\n",
    "        gs = GridSpec(1, 10, figure=fig) \n",
    "        ax0 = fig.add_subplot(gs[:, :4])\n",
    "        ax1 = fig.add_subplot(gs[:, 4:8])\n",
    "        ax2 = fig.add_subplot(gs[:, 8:])\n",
    "\n",
    "        datas_list = [generate_response(t_max=600,\n",
    "                                        N=200, \n",
    "                                        sigma=sig, #p['sigma'], \n",
    "                                        a=0,\n",
    "                                        b=b_i, #p['wave_speed'],\n",
    "                                        steps=200, \n",
    "                                        amp_mean=ampi,\n",
    "                                        sigma_noise=eps_sigma, #p['sigma_noise'],\n",
    "                                        phase_noise=eps_phase, #p['phase_noise'],\n",
    "                                        amp_noise=eps_amp,\n",
    "                                        )[0].T \n",
    "                                for ampi in np.linspace(0.3, 1.2, p['ncond'])] \n",
    "        \n",
    "        times = np.arange(datas_list[0].shape[0]).tolist()\n",
    "        start, end = times[0], times[-1]\n",
    "        datas, data_list, full_data_var, pca_variance_captured, pca = preprocess(\n",
    "                                                                datas_list, \n",
    "                                                                times=times, \n",
    "                                                                tstart=start,\n",
    "                                                                tend=end,\n",
    "                                                                soft_normalize=5, \n",
    "                                                                subtract_cc_mean=True, \n",
    "                                                                pca=False,\n",
    "                                                                extra=True)\n",
    "        jpca = jPCA.JPCA(num_jpcs=6)\n",
    "        (projected, _, _, _) = jpca.fit(datas_list, times=times, \n",
    "                tstart=start, tend=end, subtract_cc_mean=True, num_pcs=6, pca=True)\n",
    "        \n",
    "        plot_projections(projected, axis=ax1, x_idx=0, y_idx=1,\n",
    "                         circle_size=0.000, arrow_size=0.000,\n",
    "                         colormap=RB1()) \n",
    "        ax1.set_xticks([])\n",
    "        ax1.set_yticks([])\n",
    "        #==========================================\n",
    "        plot_peth(datas_list, go_cue=0, ax=ax2, fs=0.001, sub_mean=False)\n",
    "        ax2.set_title('PETH', fontsize=fsize)\n",
    "        ax0.set_title('Gyration Plane', fontsize=fsize)\n",
    "        ax1.set_title('jPCA Plane', fontsize=fsize)\n",
    "        #==========================================\n",
    "\n",
    "        Xeig = compute_lambdas(datas)\n",
    "        xnom = np.abs(np.real(Xeig[0])) + np.abs(np.real(Xeig[1]))\n",
    "        ynom = np.abs(np.imag(Xeig[0])) + np.abs(np.imag(Xeig[1]))\n",
    "        x = xnom / (np.abs(Xeig).sum())\n",
    "        y = ynom / (np.abs(Xeig).sum())\n",
    "        \n",
    "        # Params of Gyration Plane\n",
    "        ins_size = 0.21\n",
    "        ax=ax0\n",
    "        ax.set_xlim([-0.05, 1.05])\n",
    "        ax.set_ylim([-0.05, 1.05])\n",
    "        ax.plot([0,0], [0,1], lw=1, ls='--', color='grey')\n",
    "        ax.plot([0,1], [0,0], lw=1, ls='--', color='grey')\n",
    "        ax.plot([0,1], [1,1], lw=1, ls='--', color='grey')\n",
    "        ax.plot([1,1], [0,1], lw=1, ls='--', color='grey')\n",
    "\n",
    "        ax.plot([0,1], [0,1], lw=1, ls='--', color='grey', alpha=0.4)\n",
    "        circle2 = plt.Circle((0, 0), 1, color='grey',lw=1,\n",
    "                             ls='--', fill=False, alpha=0.4)\n",
    "        ax.add_patch(circle2)\n",
    "\n",
    "        ax.grid(alpha=0.3)\n",
    "        ax.set_ylabel('Rotation axis', fontsize=12)\n",
    "        ax.set_xlabel('Decay axis', fontsize=12)\n",
    "        ax.set_facecolor('#fafafa')\n",
    "        ax.tick_params(axis='both', which='major', labelsize=9, direction=\"in\")\n",
    "\n",
    "        ins = ax.inset_axes([x - ins_size/2, y - ins_size/2,\n",
    "                             ins_size, ins_size], transform=ax.transData)\n",
    "        ins.set_aspect('equal', adjustable='datalim')\n",
    "        plot_projections(projected, axis=ins, x_idx=0, y_idx=1,\n",
    "                         circle_size=0.000, arrow_size=0.000,\n",
    "                         colormap=RB1()) \n",
    "        if x > 0.7:\n",
    "                hha = 'right'\n",
    "                title_x = -0.05\n",
    "                title_y = 0.0\n",
    "        else:\n",
    "                hha = 'left'\n",
    "                title_x = 1.05\n",
    "                title_y = 0.0\n",
    "        ins.set_title(  r'$\\epsilon_{A}$='+f'{p[\"amp_noise\"]} \\n' + \n",
    "                        r'$\\epsilon_{\\sigma}$='+f'{p[\"sigma_noise\"]} \\n' + \n",
    "                        r'$\\epsilon_{k}$='+f'{p[\"phase_noise\"]} \\n' + \n",
    "                        r'$b$='+f'{round(b_i, 2)} \\n' + \n",
    "                        r'$\\sigma$='+f'{round(sig, 2)}', \n",
    "                        fontsize=8, x=title_x, y=title_y, ha=hha)\n",
    "        ins.set_xticks([])\n",
    "        ins.set_yticks([])\n",
    "        for spine in ins.spines.values():\n",
    "                spine.set_linewidth(2.1)\n",
    "\n",
    "        nam = generate_image_name(ii, 'image/gif_for_readme/')\n",
    "        plt.savefig(nam, dpi=90, format='png', bbox_inches='tight', pad_inches=0.0)\n",
    "        plt.clf();          \n",
    "        ii += 1\n",
    "        # break"
   ]
  },
  {
   "cell_type": "code",
   "execution_count": 9,
   "metadata": {},
   "outputs": [
    {
     "name": "stderr",
     "output_type": "stream",
     "text": [
      "/home/kate/anaconda3/envs/CN/lib/python3.7/site-packages/ipykernel_launcher.py:31: DeprecationWarning: Starting with ImageIO v3 the behavior of this function will switch to that of iio.v3.imread. To keep the current behavior (and make this warning disappear) use `import imageio.v2 as imageio` or call `imageio.v2.imread` directly.\n"
     ]
    }
   ],
   "source": [
    "render_gif(image_folder='image/gif_for_readme/', video_name='gif_for_README_90dpi.gif')"
   ]
  },
  {
   "cell_type": "code",
   "execution_count": null,
   "metadata": {},
   "outputs": [],
   "source": []
  },
  {
   "cell_type": "code",
   "execution_count": null,
   "metadata": {},
   "outputs": [],
   "source": [
    "# preprocess_data(self, sigma, a, b, ncond, N, t_max, steps,\n",
    "#                         sigma_noise=0.0, phase_noise=0.0, amp_noise=0.0,\n",
    "#                         amp_range=[0.5, 1.0])"
   ]
  }
 ],
 "metadata": {
  "kernelspec": {
   "display_name": "CN",
   "language": "python",
   "name": "python3"
  },
  "language_info": {
   "codemirror_mode": {
    "name": "ipython",
    "version": 3
   },
   "file_extension": ".py",
   "mimetype": "text/x-python",
   "name": "python",
   "nbconvert_exporter": "python",
   "pygments_lexer": "ipython3",
   "version": "3.7.11"
  },
  "orig_nbformat": 4
 },
 "nbformat": 4,
 "nbformat_minor": 2
}
