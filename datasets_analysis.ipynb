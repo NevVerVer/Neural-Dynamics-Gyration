{
 "cells": [
  {
   "cell_type": "code",
   "execution_count": null,
   "metadata": {},
   "outputs": [],
   "source": [
    "# TODO: Katya\n",
    "# Fig S2-S3-S4, 4"
   ]
  },
  {
   "cell_type": "markdown",
   "metadata": {},
   "source": [
    "**Structure:**\n",
    "\n",
    "1. Description of NeuralDataset class and how it works. How to download datasets from drive. How to create your own class for own dataset.\n",
    "\n",
    "2. Example of how to download and work with all datasets used in study. Description of datasets and table of difference in parameters.\n",
    "\n",
    "3. Building figures from paper and some details about them."
   ]
  },
  {
   "cell_type": "code",
   "execution_count": null,
   "metadata": {},
   "outputs": [],
   "source": [
    "# Gallego: Not all files are uploaded here, since the full size of dataset is 9 Gb. \n",
    "# describe shufflings and show\n",
    "# "
   ]
  },
  {
   "cell_type": "code",
   "execution_count": 1,
   "metadata": {},
   "outputs": [],
   "source": [
    "import numpy as np\n",
    "import matplotlib.pyplot as plt\n",
    "\n",
    "from utils.datasets import (\n",
    "    NeuralDataset,\n",
    "    GraspingSuresh,\n",
    "    ReachingGallego,\n",
    "    ReachingChurchland,\n",
    "    ReachingKalidindi,\n",
    "    BehaviouralMante,\n",
    ")"
   ]
  },
  {
   "cell_type": "code",
   "execution_count": null,
   "metadata": {},
   "outputs": [],
   "source": [
    "from utils.color_palettes import bg_gray_color, jpca_palette_journ1, GR1, RB1, YP1, YS1, blue_yellow_cmap, BG1\n",
    "from utils.color_palettes import journ_color_dict, alt_colors\n",
    "from utils.data_processing import load_h5_file\n",
    "\n",
    "import numpy as np\n",
    "from utils.color_palettes import blue_yellow_cmap\n",
    "from utils.utils import subtract_cc_mean, soft_normalize\n",
    "from utils.utils import shuffle_data, compute_curvature, pca_rotation\n",
    "import jPCA\n",
    "from jPCA.util import plot_projections\n",
    "from scipy.optimize import curve_fit\n",
    "from scipy.stats import pearsonr\n",
    "from tqdm import tqdm\n",
    "# from utils.utils import fit_running_wave\n",
    "\n",
    "\n",
    "from datasets_config import * # TODO"
   ]
  },
  {
   "cell_type": "code",
   "execution_count": null,
   "metadata": {},
   "outputs": [],
   "source": [
    "PATH_DRAFT = 'images/draft_panels/'\n",
    "figSN_dir = 'figSN/'\n",
    "\n",
    "all_names = ['churhc', 'grasp', 'lfp', 'khalid', 'pfc']\n",
    "all_params = [church_params, grasp_params, lfp_params, khalid_params, pfc_params]\n",
    "all_path = [church, grasp, lfp, khaild, pfc]"
   ]
  },
  {
   "cell_type": "code",
   "execution_count": null,
   "metadata": {},
   "outputs": [],
   "source": [
    "import matplotlib.pyplot as plt\n",
    "from matplotlib.gridspec import GridSpec\n",
    "\n",
    "for nam, params, dpath in zip(all_names, all_params, all_path):\n",
    "    d_dict = load_h5_file(DATA_PATH, dpath)    \n",
    "    datas = d_dict[\"data\"]\n",
    "    go_cue = d_dict[\"align_cue_idx\"]\n",
    "    \n",
    "    if nam == 'grasp':\n",
    "        datas = d_dict[\"data\"][:, 220:300, :]\n",
    "        go_cue = go_cue - 220\n",
    "\n",
    "    # create objects\n",
    "    fig = plt.figure(figsize=(13, 6), constrained_layout=True)\n",
    "    gs = GridSpec(2, 4, figure=fig) \n",
    "\n",
    "    # create sub plots as grid\n",
    "    ax0 = fig.add_subplot(gs[:, 0])\n",
    "\n",
    "    ax1 = fig.add_subplot(gs[0, 1])\n",
    "    ax2 = fig.add_subplot(gs[0, 2])\n",
    "    ax3 = fig.add_subplot(gs[0, 3])\n",
    "\n",
    "    ax4 = fig.add_subplot(gs[1, 1:3])\n",
    "    ax5 = fig.add_subplot(gs[1, 3])\n",
    "\n",
    "    # 0 - peth\n",
    "    plot_peth(datas, go_cue, ax0, fs=params['fs'], sub_mean=False)\n",
    "    ax0.set_xlabel('Time, ms', fontsize=12)\n",
    "    ax0.set_title('PETH', fontsize=14)\n",
    "\n",
    "    # 4 - curvature \n",
    "    plot_curvature(datas, go_cue, ax4, fs=params['fs'], sub_mean=False)\n",
    "    ax4.set_xlabel('Time, ms', fontsize=12)\n",
    "    ax4.set_title('Curvature of trajectories', fontsize=14)\n",
    "\n",
    "    # 1 - jPCA\n",
    "    build_jPCA(datas, ax1, params['ts'], params['te'], c_siz=params['c_size'], arr_siz=params['arr_size'],\n",
    "                cmap=params['cmap'])\n",
    "    # ax4.set_aspect('equal')\n",
    "    for axis in ['top', 'bottom', 'left', 'right']:\n",
    "        ax1.spines[axis].set_linewidth(0.5)\n",
    "    ax1.set_xticks([])\n",
    "    ax1.set_yticks([])\n",
    "    # ax1.set_xlabel('jPC1, a.u.', fontsize=9)\n",
    "    # ax1.set_ylabel('jPC2, a.u.', fontsize=9)\n",
    "    ax1.set_title('jPCA plane', fontsize=14)\n",
    "\n",
    "    # 2 - PCA\n",
    "    build_pca(datas, ax2, params['ts'], params['te'], c_siz=params['c_size_pca'], arr_siz=params['arr_size_pca'],\n",
    "            cmap=params['cmap'])\n",
    "    # ax5.set_aspect('equal')\n",
    "    for axis in ['top', 'bottom', 'left', 'right']:\n",
    "        ax2.spines[axis].set_linewidth(0.5)\n",
    "    ax2.set_xticks([])\n",
    "    ax2.set_yticks([])\n",
    "    # ax2.set_xlabel('projection onto PC1, a.u.', fontsize=10)\n",
    "    # ax2.set_ylabel('projection onto PC2, a.u.', fontsize=10)\n",
    "    ax2.set_title('PCA plane', fontsize=14)\n",
    "\n",
    "    # 3 - jPCA of our fitted model\n",
    "    t = np.arange(datas.shape[1])\n",
    "    r2 = plot_R2_fitting(datas, t, ax3, params['ts'], params['te'], c_siz=params['c_size'], arr_siz=params['arr_size'],\n",
    "                        cmap=params['cmap'], pfc=params['pfc'], khalid=params['khalid'])\n",
    "    for axis in ['top', 'bottom', 'left', 'right']:\n",
    "        ax3.spines[axis].set_linewidth(0.5)\n",
    "    ax3.set_xticks([])\n",
    "    ax3.set_yticks([])\n",
    "    # ax3.set_xlabel('projection onto jPC1, a.u.', fontsize=10)\n",
    "    # ax3.set_ylabel('projection onto jPC2, a.u.', fontsize=10)\n",
    "    ax3.set_title('jPCA plane (running wave model)', fontsize=14)\n",
    "\n",
    "    # 5 - R2 fitting distribution\n",
    "    ax5.hist(np.array(r2).ravel(), bins=params['bins'], color=journ_color_dict['blue'],\n",
    "              edgecolor='white', linewidth=0.7)\n",
    "    ax5.axvline(np.nanmean(r2), c=journ_color_dict['red'],\n",
    "                label='mean={}'.format(round(np.nanmean(r2), 2)), ls='--', alpha=0.6) \n",
    "    ax5.yaxis.tick_right()\n",
    "    ax5.set_xlim([0., 1.009])\n",
    "    for axis in ['top', 'bottom', 'left', 'right']:\n",
    "        ax5.spines[axis].set_linewidth(0.5)\n",
    "\n",
    "    import matplotlib.ticker as ticker\n",
    "    ax5.xaxis.set_major_locator(ticker.MultipleLocator(0.5))\n",
    "    ax5.yaxis.set_major_locator(ticker.MultipleLocator(40))\n",
    "    ax5.legend()\n",
    "    ax5.grid(alpha=0.3)\n",
    "    ax5.set_facecolor(bg_gray_color) \n",
    "    ax5.set_title('Distribution of R2', fontsize=14)\n",
    "    ax5.yaxis.set_major_locator(ticker.MultipleLocator(params['hist_space']))\n",
    "    ax5.yaxis.tick_right()\n",
    "    \n",
    "    plt.savefig(PATH_DRAFT + figSN_dir + nam + '.pdf', dpi=300, format='pdf',\n",
    "                bbox_inches='tight', pad_inches=0.0)\n",
    "    plt.tight_layout()\n",
    "    plt.show()"
   ]
  },
  {
   "cell_type": "code",
   "execution_count": null,
   "metadata": {},
   "outputs": [],
   "source": []
  },
  {
   "cell_type": "markdown",
   "metadata": {},
   "source": [
    "| Article & Authors                                                                                                                 | Smoothing Sigma (ms)   | Frequency Sampling (sec)     | Original Smoothing Sigma (ms)             |\n",
    "|-----------------------------------------------------------------------------------------------------------------------------------|------------------------|------------------------------|-------------------------------------------|\n",
    "| \"Neural Population Dynamics During Reaching\", Churchland et al.                                                                   | same as original paper | 0.01 (1 time point = 10 ms)  | 20 / 24 ms S.D. (for diff datasets)       |\n",
    "| \"Neural Population Dynamics in Motor Cortex are Different for Reach and Grasp\", Suresh et al.                                     | 70                     | 0.01 (1 time point = 10 ms)  | 25 ms S.D.                                |\n",
    "| \"Local field potentials reflect cortical population dynamics in a region-specific and frequency-dependent manner\", Gallego et al. | 50                     | 0.001 (1 time point = 30 ms) | bins of size 30 ms                        |\n",
    "| \"Rotational dynamics in motor cortex are consistent with a feedback controller\", Kalidindi et al.                                 | same as original paper | -                            | 30 ms S.D.                                |\n",
    "| \"Context-dependent Computation by Recurrent Dynamics in Prefrontal Cortex\", Mante et al.                                          | 20                     | 0.001 (1 time point = 1 ms)  | 12.5 ms and 50 ms (for plots and fitting) |"
   ]
  },
  {
   "cell_type": "markdown",
   "metadata": {},
   "source": []
  }
 ],
 "metadata": {
  "kernelspec": {
   "display_name": "CN",
   "language": "python",
   "name": "python3"
  },
  "language_info": {
   "codemirror_mode": {
    "name": "ipython",
    "version": 3
   },
   "file_extension": ".py",
   "mimetype": "text/x-python",
   "name": "python",
   "nbconvert_exporter": "python",
   "pygments_lexer": "ipython3",
   "version": "3.7.11"
  },
  "orig_nbformat": 4
 },
 "nbformat": 4,
 "nbformat_minor": 2
}
